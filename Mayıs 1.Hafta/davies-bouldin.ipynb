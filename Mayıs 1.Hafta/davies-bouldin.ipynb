{
 "cells": [
  {
   "cell_type": "markdown",
   "id": "f754d3a6",
   "metadata": {},
   "source": [
    "# Davies-Bouldin Index Method\n",
    "\n",
    "## 1. Giriş\n",
    "\n",
    "#### Öncelikle şuraya değinmek istiyorum;\n",
    "\n",
    "*Gözetimli öğrenmenin aksine, gözetimsiz öğrenme sadece bağımsız değişkenlere sahiptir yani bağımlı değişken yoktur. Kısaca, veri etiketsizdir. Bu yüzden gözetimsiz öğrenme problemlerinde hedef değişken olmadığı için modelimizin doğruluğunu test etmemiz ve nerede durmamız gerektiğini belirlememiz de zor. Yine de bu modelleri basitçe test edebiliriz. Kümeleme yaparken hedeflediğimiz ve ya makul olan sonuçları seçebiliriz.*\n",
    "\n",
    "**“Davies Bouldin Score” ise kümeler arası ortalama benzerliği ölçmek için kullanılır. Bu oran için düşük değerler tercih edilir ve minimum skor değeri 0’dır. Daha düşük değerler daha iyi kümelemeyi gösterir.**\n",
    "\n",
    "Davies-Bouldin İndeksi (DBİ), kümeleme algoritmalarının başarısını ölçmek amacıyla kullanılan bir metriktir. Bu yöntem, kümelerin içsel kompaktlığı ve kümeler arasındaki ayrım derecesini değerlendirerek, elde edilen kümelenme sonuçlarının ne kadar iyi olduğunu nicelendirir.\n",
    "\n",
    "## 2. Matematiksel Tanım\n",
    "\n",
    "Bir veri kümesi $K$ kümeye ayrıldığında, DBİ aşağıdaki formülle hesaplanır:\n",
    "\n",
    "$$\n",
    "\\mathrm{DBİ} = \\frac{1}{K} \\sum_{i=1}^{K} \\max_{j \\neq i} \\left( \\frac{S_{i} + S_{j}}{M_{ij}} \\right)\n",
    "$$\n",
    "\n",
    "* $S_{i}$: $i$-inci kümedeki örneklerin kendi küme merkezine olan ortalama uzaklığı.\n",
    "* $M_{ij}$: $i$ ve $j$ kümelerinin merkezleri arasındaki uzaklık.\n",
    "\n",
    "Daha düşük bir DBİ değeri, kümelerin birbirinden iyi ayrıldığını ve her bir kümenin kendi içinde kompakt olduğunu gösterir.\n",
    "\n",
    "## 3. Uygulama Adımları\n",
    "\n",
    "1. **Veri Hazırlığı:** Kullanılacak veri setini yükleyin ve gerekli ön işlemleri (ölçekleme, eksik değer kontrolü vb.) gerçekleştirin.\n",
    "2. **Kümeleme:** KMeans veya tercih ettiğiniz başka bir kümeleme algoritması ile veriyi $K$ kümeye ayırın.\n",
    "3. **DBİ Hesaplama:** Kümeleme sonuç etiketleri üzerinden `davies_bouldin_score` veya manuel hesaplama ile DBİ değerini bulun.\n",
    "4. **Değerlendirme:** Farklı $K$ değerleri için DBİ’yi karşılaştırarak en uygun küme sayısını belirleyin.\n",
    "\n",
    "## 4. Notebook’a Dönüştürme\n",
    "\n",
    "* Yeni bir Jupyter Notebook (ör. `davies_bouldin_example.ipynb`) oluşturun.\n",
    "* Yukarıda belirtilen adımları kod hücrelerine dönüştürün:\n",
    "\n",
    "  * Gerekli kütüphanelerin yüklenmesi\n",
    "  * Veri setinin okunması ve ön işlemler\n",
    "  * Kümeleme algoritması uygulanması\n",
    "  * DBİ hesaplama ve sonuçların raporlanması\n",
    "* Her adımı ayrı bir hücrede çalıştırarak sonuçlarınızı görsel ve sayısal olarak inceleyin.\n",
    "\n",
    "> **Not:** Kod bloklarını kendi tercihinize göre düzenleyip ekleyebilirsiniz. Bu rehber yalnızca sözel açıklamaları içerir.\n"
   ]
  },
  {
   "cell_type": "code",
   "execution_count": 3,
   "id": "c191be38",
   "metadata": {},
   "outputs": [
    {
     "name": "stdout",
     "output_type": "stream",
     "text": [
      "Davies-Bouldin İndeksi: 0.666\n"
     ]
    }
   ],
   "source": [
    "from sklearn.datasets import load_iris\n",
    "from sklearn.cluster import KMeans\n",
    "from sklearn.metrics import davies_bouldin_score\n",
    "\n",
    "# 1. Veri Hazırlığı\n",
    "iris = load_iris()\n",
    "X = iris.data\n",
    "\n",
    "# 2. KMeans Kümeleme\n",
    "kmeans = KMeans(n_clusters=3, random_state=42)\n",
    "labels = kmeans.fit_predict(X)\n",
    "\n",
    "# 3. Davies-Bouldin İndeksi Hesaplama\n",
    "dbi = davies_bouldin_score(X, labels)\n",
    "print(f\"Davies-Bouldin İndeksi: {dbi:.3f}\")"
   ]
  }
 ],
 "metadata": {
  "kernelspec": {
   "display_name": "Python 3",
   "language": "python",
   "name": "python3"
  },
  "language_info": {
   "codemirror_mode": {
    "name": "ipython",
    "version": 3
   },
   "file_extension": ".py",
   "mimetype": "text/x-python",
   "name": "python",
   "nbconvert_exporter": "python",
   "pygments_lexer": "ipython3",
   "version": "3.11.5"
  }
 },
 "nbformat": 4,
 "nbformat_minor": 5
}
