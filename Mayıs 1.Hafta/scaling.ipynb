{
 "cells": [
  {
   "cell_type": "markdown",
   "id": "86041443",
   "metadata": {},
   "source": [
    "# Scaling (Özellik Ölçekleme) Nedir? Nasıl Yapılır?\n",
    "\n",
    "Özellik ölçekleme, makine öğrenmesi modellerinin farklı ölçeklerdeki değişkenlerle dengeli çalışabilmesi için veri sütunlarının belirli bir aralığa veya dağılıma dönüştürülmesidir. Ölçekleme yapılmadığında, değerleri büyük olan özellikler model tarafından “daha önemli” kabul edilerek sonuçları çarpıtabilir.\n",
    "\n",
    "---\n",
    "\n",
    "## 1. Özellik Ölçeklemenin Amacı\n",
    "\n",
    "- **Adil Ağırlık Dağılımı**  \n",
    "  Farklı birim veya büyüklükteki özellikler, mesafe ve ağırlık temelli algoritmalarda (K-Means, KNN, SVM vb.) haksız avantaj sağlar.\n",
    "\n",
    "- **Optimizasyon Hızı ve Kararlılığı**  \n",
    "  Gradient Descent gibi yöntemler, farklı ölçeklerdeki girdilerle çalışırken yakınsama sürecini yavaşlatabilir veya kararsızlaştırabilir.\n",
    "\n",
    "- **Düzenleme (Regularization)**  \n",
    "  L1/L2 cezalı modellerde (Ridge, Lasso), büyük ölçekli özellikler daha yüksek ceza alır; bu dengesiz ceza dağılımını önlemek için ölçekleme gerekir.\n",
    "\n",
    "---\n",
    "\n",
    "## 2. Yaygın Ölçekleme Yöntemleri\n",
    "\n",
    "| Yöntem             | Açıklama                                                    | Kullanım Örneği                                |\n",
    "|--------------------|-------------------------------------------------------------|------------------------------------------------|\n",
    "| **StandardScaler** | Özelliği, ortalaması 0, standart sapması 1 olacak şekilde dönüştürür. | Normal dağılıma yakın veriler.                 |\n",
    "| **MinMaxScaler**   | Değerleri [0, 1] (veya belirlenen başka aralık) içine sıkar.         | Görüntü piksel değerleri, sinir ağları girişi. |\n",
    "| **RobustScaler**   | Medyanı 0, IQR (çeyrekler açıklığı) 1 olacak şekilde ölçekler; uç değer etkisini azaltır. | Aykırı değerlerin yoğun olduğu veri setleri.   |\n",
    "| **MaxAbsScaler**   | Mutlak değerin maksimumunu 1’e ölçekler; sıfır merkezli kalır.        | Seyrek (sparse) matrisler, pozitif-negatif karışık veriler. |\n",
    "| **Normalizer**     | Her örneği kendi L2 normuna böler; vektör uzunluğu = 1 olur.         | Metin madenciliği (TF-IDF), benzerlik ölçümleri. |\n",
    "\n",
    "---\n",
    "\n",
    "## 3. Nasıl Yapılır?\n",
    "\n",
    "Özellik ölçekleme süreci dört temel adımdan oluşur. Her adımı dikkatle uygulayarak veri sızıntısını önleyebilir ve modelinizin genellenebilirliğini artırabilirsiniz.\n",
    "\n",
    "### 3.1. Veriyi Eğitim ve Test Olarak Ayırın  \n",
    "- **Neden?** Ölçekleyicinin parametrelerini yalnızca eğitim verisinden öğrenmek (data leakage’ı önlemek) için.  \n",
    "- **Kod:**\n",
    "  ```python\n",
    "  from sklearn.model_selection import train_test_split\n",
    "\n",
    "  X_train, X_test, y_train, y_test = train_test_split(\n",
    "      X, y,\n",
    "      test_size=0.2,\n",
    "      random_state=42,\n",
    "      shuffle=True\n",
    "  )\n"
   ]
  },
  {
   "cell_type": "markdown",
   "id": "89b2e3f1",
   "metadata": {},
   "source": []
  }
 ],
 "metadata": {
  "language_info": {
   "name": "python"
  }
 },
 "nbformat": 4,
 "nbformat_minor": 5
}
